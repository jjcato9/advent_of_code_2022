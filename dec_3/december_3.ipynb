{
 "cells": [
  {
   "cell_type": "markdown",
   "id": "fbca1400",
   "metadata": {},
   "source": [
    "One Elf has the important job of loading all of the rucksacks with supplies for the jungle journey. Unfortunately, that Elf didn't quite follow the packing instructions, and so a few items now need to be rearranged.\n",
    "\n",
    "Each rucksack has two large compartments. All items of a given type are meant to go into exactly one of the two compartments. The Elf that did the packing failed to follow this rule for exactly one item type per rucksack.\n",
    "\n",
    "The Elves have made a list of all of the items currently in each rucksack (your puzzle input), but they need your help finding the errors. Every item type is identified by a single lowercase or uppercase letter (that is, a and A refer to different types of items).\n",
    "\n",
    "The list of items for each rucksack is given as characters all on a single line. A given rucksack always has the same number of items in each of its two compartments, so the first half of the characters represent items in the first compartment, while the second half of the characters represent items in the second compartment.\n",
    "\n",
    "For example, suppose you have the following list of contents from six rucksacks:\n",
    "\n",
    "vJrwpWtwJgWrhcsFMMfFFhFp\n",
    "\n",
    "jqHRNqRjqzjGDLGLrsFMfFZSrLrFZsSL\n",
    "\n",
    "PmmdzqPrVvPwwTWBwg\n",
    "\n",
    "wMqvLMZHhHMvwLHjbvcjnnSBnvTQFn\n",
    "\n",
    "ttgJtRGJQctTZtZT\n",
    "\n",
    "CrZsJsPPZsGzwwsLwLmpwMDw\n",
    "\n",
    "The first rucksack contains the items vJrwpWtwJgWrhcsFMMfFFhFp, which means its first compartment contains the items vJrwpWtwJgWr, while the second compartment contains the items hcsFMMfFFhFp. The only item type that appears in both compartments is lowercase p.\n",
    "The second rucksack's compartments contain jqHRNqRjqzjGDLGL and rsFMfFZSrLrFZsSL. The only item type that appears in both compartments is uppercase L.\n",
    "The third rucksack's compartments contain PmmdzqPrV and vPwwTWBwg; the only common item type is uppercase P.\n",
    "The fourth rucksack's compartments only share item type v.\n",
    "The fifth rucksack's compartments only share item type t.\n",
    "The sixth rucksack's compartments only share item type s.\n",
    "To help prioritize item rearrangement, every item type can be converted to a priority:\n",
    "\n",
    "Lowercase item types a through z have priorities 1 through 26.\n",
    "Uppercase item types A through Z have priorities 27 through 52.\n",
    "In the above example, the priority of the item type that appears in both compartments of each rucksack is 16 (p), 38 (L), 42 (P), 22 (v), 20 (t), and 19 (s); the sum of these is 157.\n",
    "\n",
    "Find the item type that appears in both compartments of each rucksack. What is the sum of the priorities of those item types?"
   ]
  },
  {
   "cell_type": "code",
   "execution_count": 96,
   "id": "7dd6c797",
   "metadata": {},
   "outputs": [],
   "source": [
    "#set up list\n",
    "import math\n",
    "\n",
    "#Read input file\n",
    "path = 'input_dec3.txt'\n",
    "\n",
    "with open(path,mode='r') as file:\n",
    "    data = file.read()\n",
    "\n",
    "lines_list = data.split('\\n')\n",
    "lines_list\n",
    "\n",
    "new_list = []\n",
    "\n",
    "for list in lines_list:\n",
    "    list_1 = []\n",
    "    list_2 = []\n",
    "    joint_list = []\n",
    "    for i in range (len(list)):\n",
    "        if i in range((math.ceil(len(list)/2))):\n",
    "            list_1.append(list[i])\n",
    "        if i in range((math.ceil(len(list)/2)),len(list)):\n",
    "            list_2.append(list[i])\n",
    "    joint_list.append(list_1)\n",
    "    joint_list.append(list_2)\n",
    "    new_list.append(joint_list)\n",
    "    list_1 = []\n",
    "    list_2 = []\n",
    "    joint_list = []"
   ]
  },
  {
   "cell_type": "code",
   "execution_count": 38,
   "id": "7fefc8a6",
   "metadata": {},
   "outputs": [],
   "source": [
    "#create scoring dictionary\n",
    "import re\n",
    "alphabet = ['a','b','c','d','e','f','g','h','i','j','k','l','m','n','o','p','q','r','s','t','u','v','w','x','y','z']\n",
    "upper_alpha = [a.upper() for a in alphabet]\n",
    "upper_alpha\n",
    "\n",
    "score_dic = {}\n",
    "for i in range(0,26):\n",
    "    score_dic[alphabet[i]] = i + 1\n",
    "for i in range(0,26):\n",
    "    score_dic[upper_alpha[i]] = i + 27"
   ]
  },
  {
   "cell_type": "code",
   "execution_count": 137,
   "id": "3ba17dac",
   "metadata": {},
   "outputs": [],
   "source": [
    "#go through two lists and find matching values\n",
    "list_letters = []\n",
    "for i in range (0,len(new_list)-1):\n",
    "    first_instance = 0\n",
    "    for j in range(len(new_list[i][0])):\n",
    "        if new_list[i][0][j] in new_list[i][1]:\n",
    "            if first_instance < 1:\n",
    "                list_letters.append(new_list[i][0][j])\n",
    "                first_instance +=1"
   ]
  },
  {
   "cell_type": "code",
   "execution_count": 94,
   "id": "798560e6",
   "metadata": {},
   "outputs": [
    {
     "data": {
      "text/plain": [
       "7691"
      ]
     },
     "execution_count": 94,
     "metadata": {},
     "output_type": "execute_result"
    }
   ],
   "source": [
    "score = 0\n",
    "\n",
    "for i in list_letters:\n",
    "    score += score_dic[i]\n",
    "\n",
    "score"
   ]
  },
  {
   "cell_type": "markdown",
   "id": "adf9d80b",
   "metadata": {},
   "source": [
    "--- Part Two ---\n",
    "\n",
    "As you finish identifying the misplaced items, the Elves come to you with another issue.\n",
    "\n",
    "For safety, the Elves are divided into groups of three. Every Elf carries a badge that identifies their group. For efficiency, within each group of three Elves, the badge is the only item type carried by all three Elves. That is, if a group's badge is item type B, then all three Elves will have item type B somewhere in their rucksack, and at most two of the Elves will be carrying any other item type.\n",
    "\n",
    "The problem is that someone forgot to put this year's updated authenticity sticker on the badges. All of the badges need to be pulled out of the rucksacks so the new authenticity stickers can be attached.\n",
    "\n",
    "Additionally, nobody wrote down which item type corresponds to each group's badges. The only way to tell which item type is the right one is by finding the one item type that is common between all three Elves in each group.\n",
    "\n",
    "Every set of three lines in your list corresponds to a single group, but each group can have a different badge item type. So, in the above example, the first group's rucksacks are the first three lines:\n",
    "\n",
    "vJrwpWtwJgWrhcsFMMfFFhFp\n",
    "\n",
    "jqHRNqRjqzjGDLGLrsFMfFZSrLrFZsSL\n",
    "\n",
    "PmmdzqPrVvPwwTWBwg\n",
    "\n",
    "And the second group's rucksacks are the next three lines:\n",
    "\n",
    "wMqvLMZHhHMvwLHjbvcjnnSBnvTQFn\n",
    "\n",
    "ttgJtRGJQctTZtZT\n",
    "\n",
    "CrZsJsPPZsGzwwsLwLmpwMDw\n",
    "\n",
    "In the first group, the only item type that appears in all three rucksacks is lowercase r; this must be their badges. In the second group, their badge item type must be Z.\n",
    "\n",
    "Priorities for these items must still be found to organize the sticker attachment efforts: here, they are 18 (r) for the first group and 52 (Z) for the second group. The sum of these is 70.\n",
    "\n",
    "Find the item type that corresponds to the badges of each three-Elf group. What is the sum of the priorities of those item types?"
   ]
  },
  {
   "cell_type": "code",
   "execution_count": 135,
   "id": "f67a7fa3",
   "metadata": {},
   "outputs": [],
   "source": [
    "lines_list\n",
    "\n",
    "0,1,2;3,4,5,\n",
    "\n",
    "groups_list = []\n",
    "group_list = []\n",
    "\n",
    "limit = len(lines_list) - 1\n",
    "start = 0\n",
    "\n",
    "for i in range(limit-1):\n",
    "    if start == 0:\n",
    "        group_list.append(lines_list[start])\n",
    "        start += 1\n",
    "    elif start < limit-1:\n",
    "        while start%3 != 0:\n",
    "            group_list.append(lines_list[start])\n",
    "            start += 1\n",
    "        if start%3 == 0:\n",
    "            groups_list.append(group_list)\n",
    "            counter = 0\n",
    "            group_list = []\n",
    "            group_list.append(lines_list[start])\n",
    "            start += 1"
   ]
  },
  {
   "cell_type": "code",
   "execution_count": 136,
   "id": "3be5599c",
   "metadata": {},
   "outputs": [],
   "source": [
    "#go through three string and find matching values\n",
    "list_letters_2 = []\n",
    "for i in range(len(groups_list)):\n",
    "    first_instance = 0\n",
    "    for j in range(len(groups_list[i][0])):\n",
    "        if groups_list[i][0][j] in groups_list[i][1] and groups_list[i][0][j] in groups_list[i][2]:\n",
    "            if first_instance < 1:\n",
    "                list_letters_2.append(groups_list[i][0][j])\n",
    "                first_instance +=1"
   ]
  },
  {
   "cell_type": "code",
   "execution_count": 134,
   "id": "49a2d853",
   "metadata": {},
   "outputs": [
    {
     "data": {
      "text/plain": [
       "2508"
      ]
     },
     "execution_count": 134,
     "metadata": {},
     "output_type": "execute_result"
    }
   ],
   "source": [
    "score_2 = 0\n",
    "\n",
    "for i in list_letters_2:\n",
    "    score_2 += score_dic[i]\n",
    "\n",
    "score_2"
   ]
  }
 ],
 "metadata": {
  "kernelspec": {
   "display_name": "Python 3",
   "language": "python",
   "name": "python3"
  },
  "language_info": {
   "codemirror_mode": {
    "name": "ipython",
    "version": 3
   },
   "file_extension": ".py",
   "mimetype": "text/x-python",
   "name": "python",
   "nbconvert_exporter": "python",
   "pygments_lexer": "ipython3",
   "version": "3.8.8"
  }
 },
 "nbformat": 4,
 "nbformat_minor": 5
}
