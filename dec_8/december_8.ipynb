{
 "cells": [
  {
   "cell_type": "code",
   "execution_count": 12,
   "id": "ca5fcbcf",
   "metadata": {},
   "outputs": [
    {
     "data": {
      "text/plain": [
       "99"
      ]
     },
     "execution_count": 12,
     "metadata": {},
     "output_type": "execute_result"
    }
   ],
   "source": [
    "path = 'input_dec8.txt'\n",
    "\n",
    "with open(path,mode='r') as file:\n",
    "    data = file.read()\n",
    "split = data.split()\n",
    "\n",
    "split[0]\n",
    "\n",
    "row = []\n",
    "for s in split[0]:\n",
    "    row.append(s)\n",
    "    \n",
    "row\n",
    "\n",
    "\n",
    "lines = []\n",
    "for i in range(len(split)):\n",
    "    num_row = []\n",
    "    for s in split[i]:\n",
    "        num_row.append(int(s))\n",
    "    lines.append(num_row)\n",
    "\n",
    "len(lines[0])\n",
    "\n",
    "#lines[0]\n",
    "\n",
    "#data = data.strip('\\n')"
   ]
  },
  {
   "cell_type": "code",
   "execution_count": 13,
   "id": "6c4ea62e",
   "metadata": {},
   "outputs": [
    {
     "data": {
      "text/plain": [
       "2"
      ]
     },
     "execution_count": 13,
     "metadata": {},
     "output_type": "execute_result"
    }
   ],
   "source": [
    "#create matrix\n",
    "import numpy as np\n",
    "mat = np.array(lines)\n",
    "mat = np.matrix(mat)\n",
    "mat.item((98,98))"
   ]
  },
  {
   "cell_type": "code",
   "execution_count": 2,
   "id": "7e4e6036",
   "metadata": {},
   "outputs": [
    {
     "data": {
      "text/plain": [
       "matrix([[3, 0, 3, 7, 3],\n",
       "        [2, 5, 5, 1, 2],\n",
       "        [6, 5, 3, 3, 2],\n",
       "        [3, 3, 5, 4, 9],\n",
       "        [3, 5, 3, 9, 0]])"
      ]
     },
     "execution_count": 2,
     "metadata": {},
     "output_type": "execute_result"
    }
   ],
   "source": [
    "#test data\n",
    "test = np.mat([[3,0,3,7,3],[2,5,5,1,2],[6,5,3,3,2],[3,3,5,4,9],[3,5,3,9,0]])\n",
    "test"
   ]
  },
  {
   "cell_type": "code",
   "execution_count": 14,
   "id": "66b1ffe5",
   "metadata": {},
   "outputs": [
    {
     "data": {
      "image/png": "[encoded data removed]",
      "text/plain": [
       "<Figure size 432x288 with 1 Axes>"
      ]
     },
     "metadata": {
      "needs_background": "light"
     },
     "output_type": "display_data"
    }
   ],
   "source": [
    "#heatmap visual of the forrest\n",
    "import matplotlib.pyplot as plt\n",
    "import numpy as np\n",
    "\n",
    "plt.imshow(mat, cmap='Greens', interpolation='nearest')\n",
    "plt.show()"
   ]
  },
  {
   "cell_type": "code",
   "execution_count": 16,
   "id": "471dd89a",
   "metadata": {},
   "outputs": [],
   "source": [
    "#create max function because mine isn't working below...\n",
    "def max_function(list):\n",
    "    highest_val = 0\n",
    "    for l in list:\n",
    "        if l > highest_val:\n",
    "            highest_val = l\n",
    "    return highest_val"
   ]
  },
  {
   "cell_type": "code",
   "execution_count": 18,
   "id": "d816b409",
   "metadata": {},
   "outputs": [
    {
     "data": {
      "text/plain": [
       "1662"
      ]
     },
     "execution_count": 18,
     "metadata": {},
     "output_type": "execute_result"
    }
   ],
   "source": [
    "#part 1\n",
    "def tree_vis(mat,nrow,ncol):\n",
    "    counter = nrow + ncol + nrow-2 + ncol - 2 #add on counts for perimeter trees\n",
    "    for i in range(1,nrow-1): #remove top and bottom rows\n",
    "        for j in range(1,ncol-1): #remove left-most and right-most\n",
    "            above = [int(mat.item((x,j))) for x in range(0,i)] #above\n",
    "            below = [int(mat.item((x,j))) for x in range(i+1,nrow)] #below\n",
    "            left = [int(mat.item((i,y))) for y in range(0,j)] #left\n",
    "            right = [int(mat.item((i,y))) for y in range(j+1,ncol)] #right\n",
    "            max_above = max_function(above)\n",
    "            max_below = max_function(below)\n",
    "            max_left = max_function(left)\n",
    "            max_right = max_function(right)\n",
    "            if int(mat.item(i,j)) > max_above or int(mat.item(i,j)) > max_below or int(mat.item(i,j)) > max_right or int(mat.item(i,j)) > max_left:\n",
    "                counter += 1\n",
    "    return counter\n",
    "\n",
    "tree_vis(mat,99,99)"
   ]
  },
  {
   "cell_type": "code",
   "execution_count": 128,
   "id": "d6211927",
   "metadata": {},
   "outputs": [
    {
     "data": {
      "text/plain": [
       "537600"
      ]
     },
     "execution_count": 128,
     "metadata": {},
     "output_type": "execute_result"
    }
   ],
   "source": [
    "#part 2\n",
    "def tree_view(mat,nrow,ncol):\n",
    "    all_counts = []\n",
    "    for i in range(1,nrow-1): #remove peripeheral trees\n",
    "        for j in range(1,ncol-1): #remove peripheral trees\n",
    "            tree = mat.item(i,j)\n",
    "            \n",
    "            #above calculation\n",
    "            above = [int(mat.item((x,j))) for x in range(0,i)]\n",
    "            rev = reversed(above)\n",
    "            above_count = 0\n",
    "            for n in rev:\n",
    "                above_count += 1\n",
    "                if n >= tree: break\n",
    "\n",
    "                        \n",
    "            #below calculation\n",
    "            below = [int(mat.item((x,j))) for x in range(i+1,nrow)]\n",
    "            below_count = 0\n",
    "            for n in below:\n",
    "                below_count += 1\n",
    "                if n >= tree: break\n",
    "                        \n",
    "            #left calculation\n",
    "            left = [int(mat.item((i,y))) for y in range(0,j)]\n",
    "            rev_left = reversed(left)\n",
    "            left_count = 0\n",
    "            for n in rev_left:\n",
    "                left_count += 1\n",
    "                if n >= tree: break\n",
    "            \n",
    "            #right calculation\n",
    "            right = [int(mat.item((i,y))) for y in range(j+1,ncol)]\n",
    "            right_count = 0\n",
    "            for n in right:\n",
    "                right_count += 1\n",
    "                if n >= tree: break\n",
    "\n",
    "            counts = above_count * below_count *left_count * right_count\n",
    "            all_counts.append(counts)\n",
    "    return all_counts\n",
    "\n",
    "output = tree_view(mat,99,99)\n",
    "max(output)"
   ]
  }
 ],
 "metadata": {
  "kernelspec": {
   "display_name": "Python 3",
   "language": "python",
   "name": "python3"
  },
  "language_info": {
   "codemirror_mode": {
    "name": "ipython",
    "version": 3
   },
   "file_extension": ".py",
   "mimetype": "text/x-python",
   "name": "python",
   "nbconvert_exporter": "python",
   "pygments_lexer": "ipython3",
   "version": "3.8.8"
  }
 },
 "nbformat": 4,
 "nbformat_minor": 5
}
