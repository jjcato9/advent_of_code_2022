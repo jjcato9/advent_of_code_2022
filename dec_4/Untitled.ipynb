{
 "cells": [
  {
   "cell_type": "markdown",
   "id": "dc5aa56b",
   "metadata": {},
   "source": [
    "Space needs to be cleared before the last supplies can be unloaded from the ships, and so several Elves have been assigned the job of cleaning up sections of the camp. Every section has a unique ID number, and each Elf is assigned a range of section IDs.\n",
    "\n",
    "However, as some of the Elves compare their section assignments with each other, they've noticed that many of the assignments overlap. To try to quickly find overlaps and reduce duplicated effort, the Elves pair up and make a big list of the section assignments for each pair (your puzzle input).\n",
    "\n",
    "For example, consider the following list of section assignment pairs:\n",
    "\n",
    "2-4,6-8\n",
    "\n",
    "2-3,4-5\n",
    "\n",
    "5-7,7-9\n",
    "\n",
    "2-8,3-7\n",
    "\n",
    "6-6,4-6\n",
    "\n",
    "2-6,4-8\n",
    "\n",
    "For the first few pairs, this list means:\n",
    "\n",
    "Within the first pair of Elves, the first Elf was assigned sections 2-4 (sections 2, 3, and 4), while the second Elf was assigned sections 6-8 (sections 6, 7, 8).\n",
    "The Elves in the second pair were each assigned two sections.\n",
    "The Elves in the third pair were each assigned three sections: one got sections 5, 6, and 7, while the other also got 7, plus 8 and 9.\n",
    "This example list uses single-digit section IDs to make it easier to draw; your actual list might contain larger numbers. Visually, these pairs of section assignments look like this:\n",
    "\n",
    ".234.....  2-4\n",
    ".....678.  6-8\n",
    "\n",
    ".23......  2-3\n",
    "...45....  4-5\n",
    "\n",
    "....567..  5-7\n",
    "......789  7-9\n",
    "\n",
    ".2345678.  2-8\n",
    "..34567..  3-7\n",
    "\n",
    ".....6...  6-6\n",
    "...456...  4-6\n",
    "\n",
    ".23456...  2-6\n",
    "...45678.  4-8\n",
    "\n",
    "Some of the pairs have noticed that one of their assignments fully contains the other. For example, 2-8 fully contains 3-7, and 6-6 is fully contained by 4-6. In pairs where one assignment fully contains the other, one Elf in the pair would be exclusively cleaning sections their partner will already be cleaning, so these seem like the most in need of reconsideration. In this example, there are 2 such pairs.\n",
    "\n",
    "In how many assignment pairs does one range fully contain the other?"
   ]
  },
  {
   "cell_type": "code",
   "execution_count": 183,
   "id": "e53c5bda",
   "metadata": {},
   "outputs": [],
   "source": [
    "#Read input file\n",
    "path = 'input_dec4.txt'\n",
    "\n",
    "with open(path,mode='r') as file:\n",
    "    data = file.read()\n",
    "\n",
    "lines_list = data.split('\\n')"
   ]
  },
  {
   "cell_type": "code",
   "execution_count": 182,
   "id": "176d68b0",
   "metadata": {},
   "outputs": [],
   "source": [
    "pairs = [lines.split(',') for lines in lines_list]\n",
    "pairs\n",
    "\n",
    "all_pairs = []\n",
    "for pair in pairs:\n",
    "    this_pair = [val.split('-') for val in pair]\n",
    "    all_pairs.append(this_pair)"
   ]
  },
  {
   "cell_type": "code",
   "execution_count": 184,
   "id": "f67f4a1c",
   "metadata": {},
   "outputs": [
    {
     "data": {
      "text/plain": [
       "477"
      ]
     },
     "execution_count": 184,
     "metadata": {},
     "output_type": "execute_result"
    }
   ],
   "source": [
    "counter = 0\n",
    "list_here = []\n",
    "for i in range(0,len(all_pairs)-1):\n",
    "        range_1 = range(int(all_pairs[i][0][0]),int(all_pairs[i][0][1])+1) #range first pair\n",
    "        range_2 = range(int(all_pairs[i][1][0]),int(all_pairs[i][1][1])+1) #range second pair\n",
    "        if range_2[0] in range_1 and range_2[-1] in range_1 or range_1[0] in range_2 and range_1[-1] in range_2:\n",
    "                counter += 1\n",
    "\n",
    "counter"
   ]
  },
  {
   "cell_type": "markdown",
   "id": "599a3f6c",
   "metadata": {},
   "source": [
    "--- Part Two ---\n",
    "It seems like there is still quite a bit of duplicate work planned. Instead, the Elves would like to know the number of pairs that overlap at all.\n",
    "\n",
    "In the above example, the first two pairs (2-4,6-8 and 2-3,4-5) don't overlap, while the remaining four pairs (5-7,7-9, 2-8,3-7, 6-6,4-6, and 2-6,4-8) do overlap:\n",
    "\n",
    "5-7,7-9 overlaps in a single section, 7.\n",
    "\n",
    "2-8,3-7 overlaps all of the sections 3 through 7.\n",
    "\n",
    "6-6,4-6 overlaps in a single section, 6.\n",
    "\n",
    "2-6,4-8 overlaps in sections 4, 5, and 6.\n",
    "\n",
    "So, in this example, the number of overlapping assignment pairs is 4.\n",
    "\n",
    "In how many assignment pairs do the ranges overlap?"
   ]
  },
  {
   "cell_type": "code",
   "execution_count": 185,
   "id": "fe242a06",
   "metadata": {},
   "outputs": [
    {
     "data": {
      "text/plain": [
       "830"
      ]
     },
     "execution_count": 185,
     "metadata": {},
     "output_type": "execute_result"
    }
   ],
   "source": [
    "counter = 0\n",
    "list_here = []\n",
    "for i in range(0,len(all_pairs)-1):\n",
    "        range_1 = range(int(all_pairs[i][0][0]),int(all_pairs[i][0][1])+1) #range first pair\n",
    "        range_2 = range(int(all_pairs[i][1][0]),int(all_pairs[i][1][1])+1) #range second pair\n",
    "        if range_2[0] in range_1 or range_2[-1] in range_1 or range_1[0] in range_2 or range_1[-1] in range_2:\n",
    "                counter += 1\n",
    "\n",
    "counter"
   ]
  }
 ],
 "metadata": {
  "kernelspec": {
   "display_name": "Python 3",
   "language": "python",
   "name": "python3"
  },
  "language_info": {
   "codemirror_mode": {
    "name": "ipython",
    "version": 3
   },
   "file_extension": ".py",
   "mimetype": "text/x-python",
   "name": "python",
   "nbconvert_exporter": "python",
   "pygments_lexer": "ipython3",
   "version": "3.8.8"
  }
 },
 "nbformat": 4,
 "nbformat_minor": 5
}
