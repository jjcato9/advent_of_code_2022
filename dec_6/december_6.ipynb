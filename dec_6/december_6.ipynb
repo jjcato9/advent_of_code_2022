{
 "cells": [
  {
   "cell_type": "markdown",
   "id": "7a1d253f",
   "metadata": {},
   "source": [
    "# Day 6: Tuning Trouble\n",
    "\n",
    "The preparations are finally complete; you and the Elves leave camp on foot and begin to make your way toward the star fruit grove.\n",
    "\n",
    "As you move through the dense undergrowth, one of the Elves gives you a handheld device. He says that it has many fancy features, but the most important one to set up right now is the communication system.\n",
    "\n",
    "However, because he's heard you have significant experience dealing with signal-based systems, he convinced the other Elves that it would be okay to give you their one malfunctioning device - surely you'll have no problem fixing it.\n",
    "\n",
    "As if inspired by comedic timing, the device emits a few colorful sparks.\n",
    "\n",
    "To be able to communicate with the Elves, the device needs to lock on to their signal. The signal is a series of seemingly-random characters that the device receives one at a time.\n",
    "\n",
    "To fix the communication system, you need to add a subroutine to the device that detects a start-of-packet marker in the datastream. In the protocol being used by the Elves, the start of a packet is indicated by a sequence of four characters that are all different.\n",
    "\n",
    "The device will send your subroutine a datastream buffer (your puzzle input); your subroutine needs to identify the first position where the four most recently received characters were all different. Specifically, it needs to report the number of characters from the beginning of the buffer to the end of the first such four-character marker.\n",
    "\n",
    "For example, suppose you receive the following datastream buffer:\n",
    "\n",
    "mjqjpqmgbljsphdztnvjfqwrcgsmlb\n",
    "\n",
    "After the first three characters (mjq) have been received, there haven't been enough characters received yet to find the marker. The first time a marker could occur is after the fourth character is received, making the most recent four characters mjqj. Because j is repeated, this isn't a marker.\n",
    "\n",
    "The first time a marker appears is after the seventh character arrives. Once it does, the last four characters received are jpqm, which are all different. In this case, your subroutine should report the value 7, because the first start-of-packet marker is complete after 7 characters have been processed.\n",
    "\n",
    "Here are a few more examples:\n",
    "\n",
    "bvwbjplbgvbhsrlpgdmjqwftvncz: first marker after character 5\n",
    "\n",
    "nppdvjthqldpwncqszvftbrmjlhg: first marker after character 6\n",
    "\n",
    "nznrnfrfntjfmvfwmzdfjlvtqnbhcprsg: first marker after character 10\n",
    "\n",
    "zcfzfwzzqfrljwzlrfnpqdbhtmscgvjw: first marker after character 11\n",
    "\n",
    "How many characters need to be processed before the first start-of-packet marker is detected?"
   ]
  },
  {
   "cell_type": "code",
   "execution_count": 19,
   "id": "5102b4a0",
   "metadata": {},
   "outputs": [],
   "source": [
    "path = 'input_dec6.txt'\n",
    "\n",
    "with open(path,mode='r') as file:\n",
    "    data = file.read()\n",
    "\n",
    "data = data.strip('\\n')"
   ]
  },
  {
   "cell_type": "markdown",
   "id": "c69823df",
   "metadata": {},
   "source": [
    "### Part 1 (ugly version)"
   ]
  },
  {
   "cell_type": "code",
   "execution_count": 23,
   "id": "0d3f1e58",
   "metadata": {},
   "outputs": [
    {
     "data": {
      "text/plain": [
       "1142"
      ]
     },
     "execution_count": 23,
     "metadata": {},
     "output_type": "execute_result"
    }
   ],
   "source": [
    "start_signals = []\n",
    "for i in range(len(data)):\n",
    "    if i >=4:\n",
    "        char1 = data[i-3]\n",
    "        char2 = data[i-2]\n",
    "        char3 = data[i-1]\n",
    "        char4 = data[i]\n",
    "    if char1 != char2 and char1 != char3 and char1 != char4 and char2!= char3 and char2 != char4 and char3 != char4:\n",
    "        start_signals.append(i+1)\n",
    "    \n",
    "min(start_signals)"
   ]
  },
  {
   "cell_type": "markdown",
   "id": "e71856ad",
   "metadata": {},
   "source": [
    "### Part 2 (ugly version)\n",
    "Your device's communication system is correctly detecting packets, but still isn't working. It looks like it also needs to look for messages.\n",
    "\n",
    "A start-of-message marker is just like a start-of-packet marker, except it consists of 14 distinct characters rather than 4.\n",
    "\n",
    "Here are the first positions of start-of-message markers for all of the above examples:\n",
    "\n",
    "mjqjpqmgbljsphdztnvjfqwrcgsmlb: first marker after character 19\n",
    "bvwbjplbgvbhsrlpgdmjqwftvncz: first marker after character 23\n",
    "nppdvjthqldpwncqszvftbrmjlhg: first marker after character 23\n",
    "nznrnfrfntjfmvfwmzdfjlvtqnbhcprsg: first marker after character 29\n",
    "zcfzfwzzqfrljwzlrfnpqdbhtmscgvjw: first marker after character 26\n",
    "How many characters need to be processed before the first start-of-message marker is detected?"
   ]
  },
  {
   "cell_type": "code",
   "execution_count": 17,
   "id": "8759e7fa",
   "metadata": {},
   "outputs": [
    {
     "name": "stdout",
     "output_type": "stream",
     "text": [
      "2803\n"
     ]
    }
   ],
   "source": [
    "for i in range(len(data)):\n",
    "    if i <14:\n",
    "        pass\n",
    "    if i >=14:\n",
    "        char1 = data[i-13]\n",
    "        char2 = data[i-12]\n",
    "        char3 = data[i-11]\n",
    "        char4 = data[i-10]\n",
    "        char5 = data[i-9]\n",
    "        char6 = data[i-8]\n",
    "        char7 = data[i-7]\n",
    "        char8 = data[i-6]\n",
    "        char9 = data[i-5]\n",
    "        char10 = data[i-4]\n",
    "        char11 = data[i-3]\n",
    "        char12 = data[i-2]\n",
    "        char13 = data[i-1]\n",
    "        char14 = data[i]\n",
    "        if char1 != char2 and char1 != char3 and char1 != char4 and char1 != char5 and char1 != char6 and char1 != char7 and char1 != char8 and  char1 != char9 and char1 != char10 and char1 != char11 and char1 != char12 and char1 != char13 and char1 != char14 and char2 != char3 and char2 != char4 and char2 != char5 and char2 != char6 and char2 != char7 and char2 != char8 and  char2 != char9 and char2 != char10 and char2 != char11 and char2 != char12 and char2 != char13 and char2 != char14 and char3 != char4 and  char3 != char5 and char3 != char6 and char3 != char7 and char3 != char8 and  char3 != char9 and char3 != char10 and char3 != char11 and char3 != char12 and char3 != char13 and char3 != char14 and char4 != char5 and char4 != char6 and char4 != char7 and char4 != char8 and  char4 != char9 and char4 != char10 and char4 != char11 and char4 != char12 and char4 != char13 and char4 != char14 and char5 != char6 and char5 != char7 and char5 != char8 and char5 != char9 and char5 != char10 and char5 != char11 and char5 != char12 and char5 != char13 and char5 != char14 and char6 != char7 and  char6 != char8 and  char6 != char9 and char6 != char10 and char6 != char11 and char6 != char12 and char6 != char13 and char6 != char14 and char7 != char8 and char7 != char9 and char7 != char10 and char7 != char11 and char7 != char12 and char7 != char13 and char7 != char14 and char8 != char9 and char8 != char10 and char8 != char11 and char8 != char12 and char8 != char13 and char8 != char14 and char9 != char10 and char9 != char11 and char9 != char12 and char9 != char13 and char9 != char14 and char10 != char11 and char10 != char12 and char10 != char13 and char10 != char14 and char11 != char12 and char11 != char13 and char11 != char14 and char12 != char13 and  char12 != char14 and char13 != char14:    #char 13 and char 14\n",
    "            print(i+1)"
   ]
  }
 ],
 "metadata": {
  "kernelspec": {
   "display_name": "Python 3",
   "language": "python",
   "name": "python3"
  },
  "language_info": {
   "codemirror_mode": {
    "name": "ipython",
    "version": 3
   },
   "file_extension": ".py",
   "mimetype": "text/x-python",
   "name": "python",
   "nbconvert_exporter": "python",
   "pygments_lexer": "ipython3",
   "version": "3.8.8"
  }
 },
 "nbformat": 4,
 "nbformat_minor": 5
}
