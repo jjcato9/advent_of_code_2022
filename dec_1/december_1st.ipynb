{
 "cells": [
  {
   "cell_type": "markdown",
   "id": "86c56fc8",
   "metadata": {},
   "source": [
    "## DECEMBER 1st - Part One"
   ]
  },
  {
   "cell_type": "markdown",
   "id": "824ebf97",
   "metadata": {},
   "source": [
    "The jungle must be too overgrown and difficult to navigate in vehicles or access from the air; the Elves' expedition traditionally goes on foot. As your boats approach land, the Elves begin taking inventory of their supplies. One important consideration is food - in particular, the number of Calories each Elf is carrying (your puzzle input).\n",
    "\n",
    "The Elves take turns writing down the number of Calories contained by the various meals, snacks, rations, etc. that they've brought with them, one item per line. Each Elf separates their own inventory from the previous Elf's inventory (if any) by a blank line.\n",
    "\n",
    "For example, suppose the Elves finish writing their items' Calories and end up with the following list:\n",
    "\n",
    "1000\n",
    "2000\n",
    "3000\n",
    "\n",
    "4000\n",
    "\n",
    "5000\n",
    "6000\n",
    "\n",
    "7000\n",
    "8000\n",
    "9000\n",
    "\n",
    "10000\n",
    "This list represents the Calories of the food carried by five Elves:\n",
    "\n",
    "The first Elf is carrying food with 1000, 2000, and 3000 Calories, a total of 6000 Calories.\n",
    "The second Elf is carrying one food item with 4000 Calories.\n",
    "The third Elf is carrying food with 5000 and 6000 Calories, a total of 11000 Calories.\n",
    "The fourth Elf is carrying food with 7000, 8000, and 9000 Calories, a total of 24000 Calories.\n",
    "The fifth Elf is carrying one food item with 10000 Calories.\n",
    "In case the Elves get hungry and need extra snacks, they need to know which Elf to ask: they'd like to know how many Calories are being carried by the Elf carrying the most Calories. In the example above, this is 24000 (carried by the fourth Elf).\n",
    "\n",
    "Find the Elf carrying the most Calories. How many total Calories is that Elf carrying?"
   ]
  },
  {
   "cell_type": "code",
   "execution_count": 5,
   "id": "4889736d",
   "metadata": {},
   "outputs": [],
   "source": [
    "#Read input file\n",
    "path = 'input_dec1.txt'\n",
    "\n",
    "with open(path,mode='r') as file:\n",
    "    data = file.read()\n",
    "\n",
    "lines_list = data.split('\\n')"
   ]
  },
  {
   "cell_type": "code",
   "execution_count": 6,
   "id": "f8f1a9c7",
   "metadata": {},
   "outputs": [],
   "source": [
    "#Iterate through each value, and create separate lists based on where the gaps are\n",
    "num_list = [] #will fill up with separate numbers for a given elf\n",
    "whole_list = [] #collects lists of numbers for each elf\n",
    "\n",
    "for i in range(len(lines_list)):\n",
    "    total = 0\n",
    "    if len(lines_list[i]) > 0:\n",
    "        num = int(lines_list[i])\n",
    "        num_list.append(num)\n",
    "    else:\n",
    "        whole_list.append(num_list)\n",
    "        num_list = []"
   ]
  },
  {
   "cell_type": "code",
   "execution_count": 7,
   "id": "0d3739fa",
   "metadata": {},
   "outputs": [],
   "source": [
    "#sum together each individual list of numbers\n",
    "sum_list = [] #will store each total value\n",
    "\n",
    "for list in whole_list:\n",
    "    sum_list.append(sum(list))"
   ]
  },
  {
   "cell_type": "code",
   "execution_count": 1,
   "id": "1bf7f0d4",
   "metadata": {
    "scrolled": false
   },
   "outputs": [],
   "source": [
    "#Find maximum sum\n",
    "max(sum_list)"
   ]
  },
  {
   "cell_type": "markdown",
   "id": "e662fb38",
   "metadata": {},
   "source": [
    "## Part Two"
   ]
  },
  {
   "cell_type": "markdown",
   "id": "5ffbf145",
   "metadata": {},
   "source": [
    "By the time you calculate the answer to the Elves' question, they've already realized that the Elf carrying the most Calories of food might eventually run out of snacks.\n",
    "\n",
    "To avoid this unacceptable situation, the Elves would instead like to know the total Calories carried by the top three Elves carrying the most Calories. That way, even if one of those Elves runs out of snacks, they still have two backups.\n",
    "\n",
    "In the example above, the top three Elves are the fourth Elf (with 24000 Calories), then the third Elf (with 11000 Calories), then the fifth Elf (with 10000 Calories). The sum of the Calories carried by these three elves is 45000.\n",
    "\n",
    "Find the top three Elves carrying the most Calories. How many Calories are those Elves carrying in total?"
   ]
  },
  {
   "cell_type": "code",
   "execution_count": 8,
   "id": "5c1ac11c",
   "metadata": {},
   "outputs": [],
   "source": [
    "sorted_sum_list = sorted(sum_list, reverse = True)\n",
    "top_three = sorted_sum_list[:3] #store top three values\n",
    "\n",
    "sum(top_three)"
   ]
  }
 ],
 "metadata": {
  "kernelspec": {
   "display_name": "Python 3",
   "language": "python",
   "name": "python3"
  },
  "language_info": {
   "codemirror_mode": {
    "name": "ipython",
    "version": 3
   },
   "file_extension": ".py",
   "mimetype": "text/x-python",
   "name": "python",
   "nbconvert_exporter": "python",
   "pygments_lexer": "ipython3",
   "version": "3.8.8"
  }
 },
 "nbformat": 4,
 "nbformat_minor": 5
}
