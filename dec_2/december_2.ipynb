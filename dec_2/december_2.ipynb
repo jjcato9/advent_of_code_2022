{
 "cells": [
  {
   "cell_type": "code",
   "execution_count": 1,
   "id": "9f506cae",
   "metadata": {},
   "outputs": [],
   "source": [
    "#Read input file\n",
    "path = 'input_dec2.txt'\n",
    "\n",
    "with open(path,mode='r') as file:\n",
    "    data = file.read()\n",
    "\n",
    "lines_list = data.split('\\n')\n",
    "lines_list = [list.split(' ') for list in lines_list ]"
   ]
  },
  {
   "cell_type": "markdown",
   "id": "a71a4e5d",
   "metadata": {},
   "source": [
    "Appreciative of your help yesterday, one Elf gives you an encrypted strategy guide (your puzzle input) that they say will be sure to help you win. \"The first column is what your opponent is going to play: A for Rock, B for Paper, and C for Scissors. The second column--\" Suddenly, the Elf is called away to help with someone's tent.\n",
    "\n",
    "The second column, you reason, must be what you should play in response: X for Rock, Y for Paper, and Z for Scissors. Winning every time would be suspicious, so the responses must have been carefully chosen.\n",
    "\n",
    "The winner of the whole tournament is the player with the highest score. Your total score is the sum of your scores for each round. The score for a single round is the score for the shape you selected (1 for Rock, 2 for Paper, and 3 for Scissors) plus the score for the outcome of the round (0 if you lost, 3 if the round was a draw, and 6 if you won)."
   ]
  },
  {
   "cell_type": "code",
   "execution_count": 31,
   "id": "39875583",
   "metadata": {},
   "outputs": [
    {
     "data": {
      "text/plain": [
       "3"
      ]
     },
     "execution_count": 31,
     "metadata": {},
     "output_type": "execute_result"
    }
   ],
   "source": [
    "#create dictionary of scores\n",
    "rps_score = {'A' : 1, 'B' : 2, 'C' : 3, 'X' : 1, 'Y' : 2, 'Z' : 3}\n",
    "outcome = {'loss' : 0, 'draw' : 3, 'win' : 6}\n",
    "\n",
    "rps_score[lines_list[2499][0]]\n"
   ]
  },
  {
   "cell_type": "markdown",
   "id": "cba8bff4",
   "metadata": {},
   "source": [
    "rock = A, X, 1\n",
    "paper = B, Y, 2\n",
    "scissors = C, Z, 3\n",
    "\n",
    "rock beats scissors\n",
    "paper beats rock\n",
    "scissors eats paper"
   ]
  },
  {
   "cell_type": "code",
   "execution_count": 46,
   "id": "24db584f",
   "metadata": {},
   "outputs": [
    {
     "name": "stdout",
     "output_type": "stream",
     "text": [
      "11063\n"
     ]
    }
   ],
   "source": [
    "score = 0\n",
    "\n",
    "for i in range(0,2500):\n",
    "    if rps_score[lines_list[i][0]] == rps_score[lines_list[i][1]]:\n",
    "        score += outcome['draw']\n",
    "        score += rps_score[lines_list[i][1]]\n",
    "    if rps_score[lines_list[i][0]] == 1:\n",
    "        if rps_score[lines_list[i][1]] == 2:\n",
    "            score += outcome['win']\n",
    "            score += rps_score[lines_list[i][1]]\n",
    "        if rps_score[lines_list[i][1]] == 3:\n",
    "            score += outcome['loss']\n",
    "            score += rps_score[lines_list[i][1]]\n",
    "    if rps_score[lines_list[i][0]] == 2:\n",
    "        if rps_score[lines_list[i][1]] == 3:\n",
    "            score += outcome['win']\n",
    "            score += rps_score[lines_list[i][1]]\n",
    "        if rps_score[lines_list[i][1]] == 1:\n",
    "            score += outcome['loss']\n",
    "            score += rps_score[lines_list[i][1]]\n",
    "    if rps_score[lines_list[i][0]] == 3:\n",
    "        if rps_score[lines_list[i][1]] == 1:\n",
    "            score += outcome['win']\n",
    "            score += rps_score[lines_list[i][1]]\n",
    "        if rps_score[lines_list[i][1]] == 2:\n",
    "            score += outcome['loss']\n",
    "            score += rps_score[lines_list[i][1]]\n",
    "\n",
    "print(score)"
   ]
  },
  {
   "cell_type": "markdown",
   "id": "3d127964",
   "metadata": {},
   "source": [
    "The Elf finishes helping with the tent and sneaks back over to you. \"Anyway, the second column says how the round needs to end: X means you need to lose, Y means you need to end the round in a draw, and Z means you need to win. Good luck!\"\n",
    "\n",
    "The total score is still calculated in the same way, but now you need to figure out what shape to choose so the round ends as indicated. The example above now goes like this:\n",
    "\n",
    "In the first round, your opponent will choose Rock (A), and you need the round to end in a draw (Y), so you also choose Rock. This gives you a score of 1 + 3 = 4.\n",
    "In the second round, your opponent will choose Paper (B), and you choose Rock so you lose (X) with a score of 1 + 0 = 1.\n",
    "In the third round, you will defeat your opponent's Scissors with Rock for a score of 1 + 6 = 7.\n",
    "Now that you're correctly decrypting the ultra top secret strategy guide, you would get a total score of 12.\n",
    "\n",
    "Following the Elf's instructions for the second column, what would your total score be if everything goes exactly according to your strategy guide?\n",
    "\n",
    "rock = A, X, 1 paper = B, Y, 2 scissors = C, Z, 3\n",
    "\n",
    "rock beats scissors paper beats rock scissors eats paper"
   ]
  },
  {
   "cell_type": "code",
   "execution_count": 51,
   "id": "abefd087",
   "metadata": {},
   "outputs": [
    {
     "data": {
      "text/plain": [
       "10349"
      ]
     },
     "execution_count": 51,
     "metadata": {},
     "output_type": "execute_result"
    }
   ],
   "source": [
    "rps_score_2 = {'A' : 1, 'B' : 2, 'C' : 3}\n",
    "outcome_2 = {'X' : 'loss', 'Y' : 'draw', 'Z' : 'win'}\n",
    "\n",
    "score_2 = 0\n",
    "\n",
    "for i in range(0,2500):\n",
    "    if lines_list[i][1] == 'Y': #draw\n",
    "        score_2 += rps_score[lines_list[i][0]]\n",
    "        score_2 += 3\n",
    "    if lines_list[i][1] == 'X': #loss\n",
    "        score_2 += 0\n",
    "        if rps_score[lines_list[i][0]] == 1: #rock\n",
    "            score_2 += rps_score['C'] #scissors\n",
    "        if rps_score[lines_list[i][0]] == 2: #paper\n",
    "            score_2 += rps_score['A'] #rock\n",
    "        if rps_score[lines_list[i][0]] == 3: #scissors\n",
    "            score_2 += rps_score['B'] #paper\n",
    "    if lines_list[i][1] == 'Z': #win\n",
    "        score_2 += 6\n",
    "        if rps_score[lines_list[i][0]] == 1: #rock\n",
    "            score_2 += rps_score['B'] #paper\n",
    "        if rps_score[lines_list[i][0]] == 2: #paper\n",
    "            score_2 += rps_score['C'] #scissors\n",
    "        if rps_score[lines_list[i][0]] == 3: #scissors\n",
    "            score_2 += rps_score['A'] #rock\n",
    "\n",
    "score_2"
   ]
  }
 ],
 "metadata": {
  "kernelspec": {
   "display_name": "Python 3",
   "language": "python",
   "name": "python3"
  },
  "language_info": {
   "codemirror_mode": {
    "name": "ipython",
    "version": 3
   },
   "file_extension": ".py",
   "mimetype": "text/x-python",
   "name": "python",
   "nbconvert_exporter": "python",
   "pygments_lexer": "ipython3",
   "version": "3.8.8"
  }
 },
 "nbformat": 4,
 "nbformat_minor": 5
}
